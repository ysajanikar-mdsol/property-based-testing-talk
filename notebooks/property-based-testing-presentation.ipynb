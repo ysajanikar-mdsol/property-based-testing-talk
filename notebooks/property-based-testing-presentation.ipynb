{
 "cells": [
  {
   "cell_type": "markdown",
   "id": "dfd49afc-cb50-4f62-93b6-28fe60006103",
   "metadata": {
    "raw_mimetype": "slides",
    "slideshow": {
     "slide_type": "slide"
    },
    "tags": []
   },
   "source": [
    "# Property Based Testing\n",
    "\n",
    "## You shall not pass!\n",
    "\n"
   ]
  },
  {
   "cell_type": "markdown",
   "id": "d1374387-2b5b-4136-ae0b-b5ba72629383",
   "metadata": {
    "slideshow": {
     "slide_type": "slide"
    },
    "tags": []
   },
   "source": [
    "# About me and Property based tsting\n",
    "\n",
    "- My name is Yogesh Sajanikar. I am a Haskeller and an author. A former member of Consensus Algorithm team for Cardano Blockchain, where we used QuickCheck, the first library written to help with property based testing.\n",
    "- I was fortunate to learn `QuickCheck` directly from [John Hughes](https://en.wikipedia.org/wiki/John_Hughes_(computer_scientist)) who is an inventor of Property based testing"
   ]
  },
  {
   "cell_type": "markdown",
   "id": "f03a9b34-ee0d-4dfe-9fa2-3e9a0f9ff286",
   "metadata": {
    "slideshow": {
     "slide_type": "slide"
    },
    "tags": []
   },
   "source": [
    "# Testing \n",
    "\n",
    "<p style=\"text-align: center\"> <em>Testing is the most commonly used approach for assuring software quality </em></p>\n",
    "\n",
    "### Types of Tests\n",
    "\n",
    "* Manual tests\n",
    "* Unit tests\n",
    "* Integration tests\n",
    "* System tests\n"
   ]
  },
  {
   "cell_type": "raw",
   "id": "8976c428-4bce-4ef2-9c05-e5b4a5d84760",
   "metadata": {
    "raw_mimetype": "",
    "slideshow": {
     "slide_type": "notes"
    },
    "tags": []
   },
   "source": [
    "Add a poll"
   ]
  },
  {
   "cell_type": "markdown",
   "id": "4d8a377b-520f-45e3-8628-47d22081adba",
   "metadata": {
    "slideshow": {
     "slide_type": "subslide"
    },
    "tags": []
   },
   "source": [
    "# Cost of Software Quality Assurance\n",
    "\n",
    "Upto 50% cost of the software is consumed by the testing activity. The cost of the software quality is borne by"
   ]
  },
  {
   "cell_type": "markdown",
   "id": "0646f9eb-ffcb-4bf8-bf22-3c1514d58adc",
   "metadata": {
    "slideshow": {
     "slide_type": "fragment"
    },
    "tags": []
   },
   "source": [
    "- the developer,"
   ]
  },
  {
   "cell_type": "markdown",
   "id": "90159664-a760-460c-bedb-387e988d4770",
   "metadata": {
    "slideshow": {
     "slide_type": "fragment"
    },
    "tags": []
   },
   "source": [
    "- the QA"
   ]
  },
  {
   "cell_type": "markdown",
   "id": "6caa6a4d-fc2f-4bba-ba5b-5654550b33a8",
   "metadata": {
    "slideshow": {
     "slide_type": "fragment"
    },
    "tags": []
   },
   "source": [
    "- the customer!"
   ]
  },
  {
   "cell_type": "markdown",
   "id": "b7c02daf-3e54-4323-bd53-a2b1b597a3a5",
   "metadata": {
    "slideshow": {
     "slide_type": "subslide"
    },
    "tags": []
   },
   "source": [
    "# Time vs cost of quality\n",
    "\n",
    "![Time and cost of quality](https://learn.microsoft.com/en-us/previous-versions/visualstudio/cross-platform/tools-for-cordova/debug-test/media/primer/03-bug-cost-over-time.png?view=toolsforcordova-2017)\n",
    "\n",
    "[Microsoft: Unit testing and continuous integration](https://learn.microsoft.com/en-us/previous-versions/visualstudio/cross-platform/tools-for-cordova/debug-test/unit-test-primer?view=toolsforcordova-2017)"
   ]
  },
  {
   "cell_type": "markdown",
   "id": "ab500a43-4019-4edf-99bf-a564f398fe5a",
   "metadata": {
    "slideshow": {
     "slide_type": "slide"
    },
    "tags": []
   },
   "source": [
    "# Property based Testing\n",
    "## The idea!\n",
    "\n",
    "- Tell if the test has passed or failed! (Obvious)\n",
    "- Should be able to _generate_ tests (Ok!)\n",
    "- If it can zoom into the bug (Nice!)"
   ]
  },
  {
   "cell_type": "markdown",
   "id": "fa9cf279-36a6-4e53-a587-852b3a7fab5e",
   "metadata": {
    "slideshow": {
     "slide_type": "subslide"
    },
    "tags": []
   },
   "source": [
    "## History\n",
    "- [K. Classen and John Hughes](https://www.cs.tufts.edu/~nr/cs257/archive/john-hughes/quick.pdf) published the paper about `QuickCheck`, a Haskell based library for property based testing.\n",
    "- QuickCheck also appeared in Erlang.\n",
    "- Ported to almost all major languages including C, C++, Scala, Rust, Java, Python ..."
   ]
  },
  {
   "cell_type": "markdown",
   "id": "1b86a7f1-b783-4f96-afc1-d80a24c1c5dc",
   "metadata": {
    "slideshow": {
     "slide_type": "subslide"
    },
    "tags": []
   },
   "source": [
    "## Code in this presentation\n",
    "- Uses `Python` as the language\n",
    "- Uses `hypothesis` as the property based testing framework"
   ]
  },
  {
   "cell_type": "markdown",
   "id": "d3a1a5f4-a5dd-485e-9f4a-80b17035d4d3",
   "metadata": {
    "slideshow": {
     "slide_type": "slide"
    },
    "tags": []
   },
   "source": [
    "# Get to work\n"
   ]
  },
  {
   "cell_type": "code",
   "execution_count": null,
   "id": "3fc655e5-7a5a-48f9-a63b-f521560e1d8d",
   "metadata": {
    "jupyter": {
     "outputs_hidden": true
    },
    "slideshow": {
     "slide_type": "fragment"
    },
    "tags": []
   },
   "outputs": [],
   "source": [
    "import ipytest\n",
    "ipytest.autoconfig()"
   ]
  },
  {
   "cell_type": "code",
   "execution_count": null,
   "id": "b7ebec58-506c-48a5-8a76-325b02681a9d",
   "metadata": {
    "jupyter": {
     "outputs_hidden": true
    },
    "slideshow": {
     "slide_type": "fragment"
    },
    "tags": []
   },
   "outputs": [],
   "source": [
    "import numpy as np\n",
    "from hypothesis import strategies as st, given, target\n",
    "from typing import List, TypeVar\n",
    "\n",
    "T = TypeVar('T')"
   ]
  },
  {
   "cell_type": "code",
   "execution_count": null,
   "id": "09ce4411-b353-41e6-a8e1-b2c296700dde",
   "metadata": {
    "jupyter": {
     "outputs_hidden": true
    },
    "slideshow": {
     "slide_type": "subslide"
    },
    "tags": []
   },
   "outputs": [],
   "source": [
    "def find_max(inp: List[T]) -> T:\n",
    "    max = -1 #inp[0] \n",
    "    for i in inp:\n",
    "        if i > max:\n",
    "            max = i\n",
    "    return max"
   ]
  },
  {
   "cell_type": "code",
   "execution_count": null,
   "id": "63c18aa1-8a20-486f-9c27-68fc6ecf551f",
   "metadata": {
    "slideshow": {
     "slide_type": "subslide"
    },
    "tags": []
   },
   "outputs": [],
   "source": [
    "%%ipytest -v\n",
    "\n",
    "def test_find_max():\n",
    "    inp = [i for i in range(0, 10)]\n",
    "    mx = find_max(inp)\n",
    "    assert mx == 9"
   ]
  },
  {
   "cell_type": "code",
   "execution_count": null,
   "id": "8e8b14c9-4351-4a9b-903a-df4afc6dad79",
   "metadata": {
    "scrolled": true,
    "slideshow": {
     "slide_type": "subslide"
    },
    "tags": []
   },
   "outputs": [],
   "source": [
    "%%ipytest -q\n",
    "\n",
    "@given(st.lists(st.integers(), min_size=1, ))\n",
    "def test_prop_find_max(inp: List[T]):\n",
    "    inp_copy = inp[:]\n",
    "    inp.sort(reverse=True)\n",
    "    assert inp[0] == find_max(inp_copy)"
   ]
  },
  {
   "cell_type": "markdown",
   "id": "4ee6e664",
   "metadata": {
    "slideshow": {
     "slide_type": "subslide"
    }
   },
   "source": [
    "## Run again with some insight"
   ]
  },
  {
   "cell_type": "code",
   "execution_count": null,
   "id": "b693318c",
   "metadata": {
    "slideshow": {
     "slide_type": "fragment"
    }
   },
   "outputs": [],
   "source": [
    "from hypothesis import find, settings, Verbosity"
   ]
  },
  {
   "cell_type": "code",
   "execution_count": null,
   "id": "c20cf3c5",
   "metadata": {
    "slideshow": {
     "slide_type": "fragment"
    }
   },
   "outputs": [],
   "source": [
    "@given(st.lists(st.integers(), min_size=1))\n",
    "@settings(verbosity=Verbosity.verbose)\n",
    "def test_prop_find_max(inp: List[T]):\n",
    "    inp_copy = inp[:]\n",
    "    inp.sort(reverse=True)\n",
    "    assert inp[0] == find_max(inp_copy)"
   ]
  },
  {
   "cell_type": "code",
   "execution_count": null,
   "id": "6d5af319",
   "metadata": {},
   "outputs": [],
   "source": [
    "test_prop_find_max()"
   ]
  },
  {
   "cell_type": "markdown",
   "id": "19e5d200",
   "metadata": {
    "slideshow": {
     "slide_type": "subslide"
    }
   },
   "source": [
    "## Another example - Reverse a list"
   ]
  },
  {
   "cell_type": "code",
   "execution_count": null,
   "id": "4c448669",
   "metadata": {
    "slideshow": {
     "slide_type": "subslide"
    }
   },
   "outputs": [],
   "source": [
    "def reverse_list(inp: List[T]) -> List[T]:\n",
    "    retval = inp[:]\n",
    "    n = len(inp)\n",
    "    for i in range(n//2):\n",
    "        retval[i], retval[-i-1] = inp[-i-1], inp[i]\n",
    "    \n",
    "    return retval"
   ]
  },
  {
   "cell_type": "code",
   "execution_count": null,
   "id": "d85a3360",
   "metadata": {
    "slideshow": {
     "slide_type": "fragment"
    }
   },
   "outputs": [],
   "source": [
    "#%%ipytest --hypothesis-verbosity=verbose  --hypothesis-show-statistics\n",
    "\n",
    "@given(st.lists(st.integers()))\n",
    "@settings(verbosity=Verbosity.verbose)\n",
    "def test_reverse_list(inp: List[int]):\n",
    "    assert reverse_list(reverse_list(inp)) == inp"
   ]
  },
  {
   "cell_type": "code",
   "execution_count": null,
   "id": "c75ac4c7",
   "metadata": {
    "slideshow": {
     "slide_type": "fragment"
    }
   },
   "outputs": [],
   "source": [
    "test_reverse_list()"
   ]
  },
  {
   "cell_type": "markdown",
   "id": "691b55b8",
   "metadata": {
    "slideshow": {
     "slide_type": "slide"
    }
   },
   "source": [
    "# Property Testing Internals\n",
    "\n",
    "* Generators - Well distributed *valid* random data\n",
    "* A property that holds **true** under valid input\n",
    "* An ability to *zoom* on to the issue within set limits"
   ]
  },
  {
   "cell_type": "markdown",
   "id": "c7a914d5",
   "metadata": {
    "slideshow": {
     "slide_type": "subslide"
    }
   },
   "source": [
    "## Random Data Generation\n",
    "\n",
    "- Generating valid data \n",
    "- Limiting the number of examples `@settings(max_examples=500)`"
   ]
  },
  {
   "cell_type": "markdown",
   "id": "dac50979",
   "metadata": {
    "slideshow": {
     "slide_type": "subslide"
    }
   },
   "source": [
    "### Valid data generation\n",
    "- Generating valid data is essential to a test. \n",
    "- Preconditioning the data by creating a custom strategy."
   ]
  },
  {
   "cell_type": "code",
   "execution_count": null,
   "id": "998341ea",
   "metadata": {
    "slideshow": {
     "slide_type": "fragment"
    }
   },
   "outputs": [],
   "source": [
    "# Generate a tuple\n",
    "st.tuples(st.integers(), st.integers()).example()"
   ]
  },
  {
   "cell_type": "code",
   "execution_count": null,
   "id": "62883dba",
   "metadata": {
    "slideshow": {
     "slide_type": "fragment"
    }
   },
   "outputs": [],
   "source": [
    "# Filter the tuple \n",
    "st.tuples(st.integers(), st.integers()).filter(lambda xy: xy[0] > xy[1]).example()"
   ]
  },
  {
   "cell_type": "markdown",
   "id": "add4adbc",
   "metadata": {
    "slideshow": {
     "slide_type": "subslide"
    }
   },
   "source": [
    "## Generating valid input (Composite strategy)"
   ]
  },
  {
   "cell_type": "code",
   "execution_count": null,
   "id": "af8a8cd7",
   "metadata": {
    "slideshow": {
     "slide_type": "fragment"
    }
   },
   "outputs": [],
   "source": [
    "# Create a composite strategy\n",
    "@st.composite\n",
    "def monotonic_tuple(draw, types=st.integers()):\n",
    "    x = draw(st.integers())\n",
    "    y = draw(st.integers(min_value=x+1))\n",
    "    return y, x"
   ]
  },
  {
   "cell_type": "code",
   "execution_count": null,
   "id": "ede8fd51",
   "metadata": {
    "slideshow": {
     "slide_type": "fragment"
    }
   },
   "outputs": [],
   "source": [
    "monotonic_tuple().example()"
   ]
  },
  {
   "cell_type": "markdown",
   "id": "d98712c2",
   "metadata": {
    "slideshow": {
     "slide_type": "subslide"
    }
   },
   "source": [
    "## Targeting the problem areas\n",
    "\n",
    "We will not get into the details of shrinking the data.\n",
    "\n",
    "- Create a UV that needs to be minimized or optimized\n",
    "- Uses _Hill Climbing_ or _Simulated Annealing_ to find the problem areas\n",
    "- The **distance** from the _property_ is usually maximized/minimized.\n",
    "- This is also called _**target**_ as it is used for finding issues."
   ]
  },
  {
   "cell_type": "markdown",
   "id": "219357c5",
   "metadata": {
    "slideshow": {
     "slide_type": "subslide"
    }
   },
   "source": [
    "## Targeted Property Test"
   ]
  },
  {
   "cell_type": "code",
   "execution_count": null,
   "id": "48de44f4",
   "metadata": {
    "slideshow": {
     "slide_type": "fragment"
    }
   },
   "outputs": [],
   "source": [
    "# The target can also be specified within the test\n",
    "\n",
    "@given(st.floats(0, 1e100), st.floats(0, 1e100), st.floats(0, 1e100))\n",
    "@settings(verbosity=Verbosity.verbose)\n",
    "def test_associativity_with_target(a, b, c):\n",
    "    ab_c = (a + b) + c\n",
    "    a_bc = a + (b + c)\n",
    "    difference = abs(ab_c - a_bc)\n",
    "    target(difference)  # Without this, the test almost always passes\n",
    "    assert difference < 2.0"
   ]
  },
  {
   "cell_type": "code",
   "execution_count": null,
   "id": "7293295e",
   "metadata": {
    "slideshow": {
     "slide_type": "fragment"
    }
   },
   "outputs": [],
   "source": [
    "test_associativity_with_target()"
   ]
  },
  {
   "cell_type": "markdown",
   "id": "a8e52b2f",
   "metadata": {
    "slideshow": {
     "slide_type": "slide"
    }
   },
   "source": [
    "# Why do I care about properties"
   ]
  },
  {
   "cell_type": "markdown",
   "id": "86c24b4a",
   "metadata": {
    "slideshow": {
     "slide_type": "subslide"
    }
   },
   "source": [
    "## Case Study - Mnesia\n",
    "\n",
    "[Model based testing of data constraints: Testing the business logic of a mnesia application with Quviq QuickCheck](https://www.researchgate.net/publication/221211415_Model_based_testing_of_data_constraints_Testing_the_business_logic_of_a_mnesia_application_with_Quviq_QuickCheck)\n",
    "\n",
    "- Documents how property based testing helped overcome infrequent but regular crashes that caused *KRED* application engineers to restart *Mnesia* database. \n",
    "- This was done by creating a SQL query that would always remain invariant."
   ]
  },
  {
   "cell_type": "markdown",
   "id": "53fdfc0e",
   "metadata": {
    "slideshow": {
     "slide_type": "subslide"
    }
   },
   "source": [
    "## Case Study - AutoSAR \n",
    "- AutoSAR is an automotive open architecture for electronic systems\n",
    "- AutoSAR specs evolved over years, and progressed from 8bit to 16 bit to newer processors\n",
    "- The essential systems (braking) were mapped to lower addresses, whereas systems such as *music* mounted on higher addresses. The essential systems are always prioritized in the decreasing order of addresses. Due to newer system mounted on higher addresses, the _accessories_ would get priority in the new standard.\n",
    "- AutoSAR modified its standard to correct this _mistake_. "
   ]
  },
  {
   "cell_type": "markdown",
   "id": "2c6852d7",
   "metadata": {
    "slideshow": {
     "slide_type": "subslide"
    }
   },
   "source": [
    "## Thinking about properties\n",
    "\n",
    "- Thinking about invariants in a system is **hard**\n",
    "- Examples \n",
    "  - The *sum* during a transaction should be **constant**\n",
    "  - GET after a POST/DELETE should always be **None** (Or without 500/400 as desired).\n",
    "  - A _stateful_ system can speficy a **FSM** as a valid state\n",
    "  - PDF creation service should result in certain **tags** for all entries in the database. "
   ]
  },
  {
   "cell_type": "markdown",
   "id": "86f36386",
   "metadata": {
    "slideshow": {
     "slide_type": "subslide"
    }
   },
   "source": [
    "## Properties as _Specifications_\n",
    "\n",
    "- Properties represent *test specifications* of the system. \n",
    "- They are derived from the *specifications* of the system\n",
    "- With property based *test specifications* one has to be more specific than just being objective. \n",
    "  - How the the input is structured?\n",
    "  - Business rules need to be quantified?\n",
    "  - At the implementation level, the specification *should* be split appropriately. \n",
    "    - What guarantee is given by SQL vs logic maintained in the code!\n",
    "  \n",
    "\n",
    "This process itself _affects_ the design, and structure of the project."
   ]
  }
 ],
 "metadata": {
  "celltoolbar": "Slideshow",
  "kernelspec": {
   "display_name": "Python 3 (ipykernel)",
   "language": "python",
   "name": "python3"
  },
  "language_info": {
   "codemirror_mode": {
    "name": "ipython",
    "version": 3
   },
   "file_extension": ".py",
   "mimetype": "text/x-python",
   "name": "python",
   "nbconvert_exporter": "python",
   "pygments_lexer": "ipython3",
   "version": "3.11.4"
  }
 },
 "nbformat": 4,
 "nbformat_minor": 5
}
